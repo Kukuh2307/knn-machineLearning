{
 "cells": [
  {
   "cell_type": "code",
   "execution_count": 3,
   "metadata": {},
   "outputs": [
    {
     "name": "stdout",
     "output_type": "stream",
     "text": [
      "Hasil Prediksi dari Data Baru:\n",
      "0     0.0\n",
      "1     0.0\n",
      "2     0.0\n",
      "3     0.0\n",
      "4     0.0\n",
      "5     0.0\n",
      "6     0.0\n",
      "7     0.0\n",
      "8     0.0\n",
      "9     0.0\n",
      "10    0.0\n",
      "11    0.0\n",
      "12    0.0\n",
      "13    0.0\n",
      "14    0.0\n",
      "15    0.0\n",
      "16    0.0\n",
      "17    0.0\n",
      "18    0.0\n",
      "19    0.0\n",
      "Name: is_safe, dtype: float64\n"
     ]
    }
   ],
   "source": [
    "import pandas as pd\n",
    "import numpy as np\n",
    "from sklearn.model_selection import train_test_split\n",
    "from sklearn.preprocessing import StandardScaler\n",
    "from sklearn.neighbors import KNeighborsClassifier\n",
    "\n",
    "# Baca dataset\n",
    "dataset = pd.read_csv('waterQuality1.csv')\n",
    "\n",
    "# Konversi kolom \"ammonia\" ke float64\n",
    "dataset['ammonia'] = pd.to_numeric(dataset['ammonia'], errors='coerce')\n",
    "dataset['ammonia'].fillna(value=0, inplace=True)\n",
    "\n",
    "# Konversi kolom \"is_safe\" ke float64\n",
    "dataset['is_safe'] = pd.to_numeric(dataset['is_safe'], errors='coerce')\n",
    "dataset['is_safe'].fillna(value=0, inplace=True)\n",
    "\n",
    "# Pisahkan fitur dan target\n",
    "x = dataset.iloc[:, 1:19].values\n",
    "y = dataset.iloc[:, -1].values\n",
    "\n",
    "# Normalisasi data menggunakan StandardScaler\n",
    "sc = StandardScaler()\n",
    "x = sc.fit_transform(x)\n",
    "\n",
    "# Inisialisasi model KNN\n",
    "classifier = KNeighborsClassifier(n_neighbors=5, metric='minkowski', p=2)\n",
    "\n",
    "# Latih model\n",
    "classifier.fit(x, y)\n",
    "\n",
    "# Baca dataset baru\n",
    "databaru = pd.read_csv('databaru.csv')\n",
    "\n",
    "# Lakukan preprosesing pada databaru jika diperlukan\n",
    "\n",
    "# Normalisasi data baru menggunakan StandardScaler yang sama\n",
    "new_data = databaru.iloc[:, 1:19].values\n",
    "new_data = sc.transform(new_data)\n",
    "\n",
    "# Lakukan prediksi pada data baru\n",
    "new_pred = classifier.predict(new_data)\n",
    "\n",
    "# Tambahkan kolom prediksi \"is_safe\" ke dataset baru\n",
    "databaru['is_safe'] = new_pred\n",
    "\n",
    "# Simpan dataset baru ke file CSV\n",
    "databaru.to_csv('databaru_with_predictions.csv', index=False)\n",
    "\n",
    "# Baca dataset baru dengan prediksi\n",
    "databaru_with_predictions = pd.read_csv('databaru_with_predictions.csv')\n",
    "\n",
    "# Tampilkan kolom \"is_safe\" dari dataset baru\n",
    "print(\"Hasil Prediksi dari Data Baru:\")\n",
    "print(databaru_with_predictions['is_safe'])"
   ]
  }
 ],
 "metadata": {
  "kernelspec": {
   "display_name": "Python 3",
   "language": "python",
   "name": "python3"
  },
  "language_info": {
   "codemirror_mode": {
    "name": "ipython",
    "version": 3
   },
   "file_extension": ".py",
   "mimetype": "text/x-python",
   "name": "python",
   "nbconvert_exporter": "python",
   "pygments_lexer": "ipython3",
   "version": "3.8.10"
  },
  "orig_nbformat": 4
 },
 "nbformat": 4,
 "nbformat_minor": 2
}
